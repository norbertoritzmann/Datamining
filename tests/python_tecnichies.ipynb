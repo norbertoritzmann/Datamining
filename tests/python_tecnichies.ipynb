{
 "cells": [
  {
   "cell_type": "code",
   "execution_count": 3,
   "metadata": {
    "collapsed": true
   },
   "outputs": [
    {
     "data": {
      "text/plain": [
       "True"
      ]
     },
     "execution_count": 3,
     "metadata": {},
     "output_type": "execute_result"
    }
   ],
   "source": [
    "from util.indicatorutil import IndicatorEnum\n",
    "indicators_active = {IndicatorEnum.ADX: 0,\n",
    "                     IndicatorEnum.CCI:0,\n",
    "                     IndicatorEnum.STOCH_K: 0,\n",
    "                     IndicatorEnum.MINUS_DI: 0,\n",
    "                     IndicatorEnum.PLUS_DI: 0}\n",
    "all(active == 0 for active in indicators_active.values())"
   ]
  },
  {
   "cell_type": "code",
   "execution_count": null,
   "metadata": {},
   "outputs": [],
   "source": [
    ""
   ]
  }
 ],
 "metadata": {
  "kernelspec": {
   "display_name": "Python 2",
   "language": "python",
   "name": "python2"
  },
  "language_info": {
   "codemirror_mode": {
    "name": "ipython",
    "version": 2.0
   },
   "file_extension": ".py",
   "mimetype": "text/x-python",
   "name": "python",
   "nbconvert_exporter": "python",
   "pygments_lexer": "ipython2",
   "version": "2.7.6"
  }
 },
 "nbformat": 4,
 "nbformat_minor": 0
}